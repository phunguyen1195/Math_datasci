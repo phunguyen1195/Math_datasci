{
 "cells": [
  {
   "cell_type": "code",
   "execution_count": 1,
   "metadata": {},
   "outputs": [],
   "source": [
    "import numpy as np\n",
    "import matplotlib.pyplot as plt\n",
    "from scipy import linalg\n",
    "from discreteMarkovChain import markovChain\n",
    "import mathdatasci\n",
    "import seaborn as sns\n",
    "import pandas as pd\n",
    "from sympy import *"
   ]
  },
  {
   "cell_type": "code",
   "execution_count": 2,
   "metadata": {},
   "outputs": [],
   "source": [
    "init_printing(use_unicode=True)"
   ]
  },
  {
   "cell_type": "code",
   "execution_count": 3,
   "metadata": {},
   "outputs": [],
   "source": [
    "P = np.array ([[0, 1/5, 1/5, 1/5, 1/5, 0, 1/5, 0],\n",
    "               [1/5, 0, 1/5, 1/5, 0, 1/5, 0, 1/5],\n",
    "               [1/5, 1/5, 0, 1/5, 0, 1/5, 1/5, 0],\n",
    "               [1/5, 1/5, 1/5, 0, 1/5, 0, 0, 1/5],\n",
    "               [1/4, 0, 0, 1/4, 0, 0, 1/4, 1/4],\n",
    "               [0, 1/4, 1/4, 0, 0, 0, 1/4, 1/4],\n",
    "               [1/4, 0, 1/4, 0, 1/4, 1/4, 0, 0],\n",
    "               [0, 1/4, 0, 1/4, 1/4, 1/4, 0, 0]\n",
    "    \n",
    "])\n",
    "\n",
    "l1 = np.array([[0,1] , [2], [3], [4], [5], [6], [7]])\n",
    "l2 = np.array([[0], [1] , [2,3], [4], [5], [6], [7]])\n",
    "l3 = np.array([[0], [1] , [2],[3], [4], [5 ,6, 7]])"
   ]
  },
  {
   "cell_type": "code",
   "execution_count": 40,
   "metadata": {},
   "outputs": [
    {
     "name": "stdout",
     "output_type": "stream",
     "text": [
      "P =\n"
     ]
    }
   ],
   "source": [
    "pprint(\"P = {Matrix(P)}\")"
   ]
  },
  {
   "cell_type": "code",
   "execution_count": 4,
   "metadata": {},
   "outputs": [],
   "source": [
    "v21 = np.array ([[1, 0, 0, 0, 0, 0],\n",
    "                 [0, 1, 0, 0, 0, 0],\n",
    "                 [0, 1, 0, 0, 0, 0],\n",
    "                 [0, 0, 1, 0, 0, 0],\n",
    "                 [0, 0, 0, 1, 0, 0],\n",
    "                 [0, 0, 0, 0, 1, 0],\n",
    "                 [0, 0, 0, 0, 0, 1]\n",
    "])"
   ]
  },
  {
   "cell_type": "code",
   "execution_count": 6,
   "metadata": {},
   "outputs": [],
   "source": [
    "math5 = mathdatasci.mathdatasci(math1.Pl, v21, auto_l=False)"
   ]
  },
  {
   "cell_type": "code",
   "execution_count": 7,
   "metadata": {},
   "outputs": [
    {
     "data": {
      "text/plain": [
       "{'eigen values': array([ 1. +0.j, -0.5+0.j,  0. +0.j, -0.5+0.j, -0. +0.j,  0. +0.j]),\n",
       " 'eigen vector': array([[ 0.408,  0.707,  0.408,  0.16 , -0.059,  0.007],\n",
       "        [ 0.408, -0.707,  0.408, -0.16 , -0.059,  0.007],\n",
       "        [ 0.408, -0.   , -0.408,  0.487, -0.621,  0.068],\n",
       "        [ 0.408, -0.   , -0.408,  0.487,  0.738, -0.082],\n",
       "        [ 0.408, -0.   , -0.408, -0.487, -0.107, -0.71 ],\n",
       "        [ 0.408, -0.   , -0.408, -0.487,  0.224,  0.696]]),\n",
       " 'stationary distribution': array([0.25 , 0.25 , 0.125, 0.125, 0.125, 0.125])}"
      ]
     },
     "execution_count": 7,
     "metadata": {},
     "output_type": "execute_result"
    }
   ],
   "source": [
    "math5.get_eigen_stationarydist_Pl()"
   ]
  },
  {
   "cell_type": "code",
   "execution_count": 37,
   "metadata": {},
   "outputs": [
    {
     "name": "stdout",
     "output_type": "stream",
     "text": [
      "eigen values\n",
      "[ 1. +0.j -0.5+0.j  0. +0.j -0.5+0.j -0. +0.j  0. +0.j]\n",
      "eigen vector\n",
      " [[ 0.408  0.707  0.408  0.16  -0.059  0.007]\n",
      "  [ 0.408 -0.707  0.408 -0.16  -0.059  0.007]\n",
      "  [ 0.408 -0.    -0.408  0.487 -0.621  0.068]\n",
      "  [ 0.408 -0.    -0.408  0.487  0.738 -0.082]\n",
      "  [ 0.408 -0.    -0.408 -0.487 -0.107 -0.71 ]\n",
      " [ 0.408 -0.    -0.408 -0.487  0.224  0.696]]\n",
      "stationary distribution\n",
      "[0.25  0.25  0.125 0.125 0.125 0.125]\n"
     ]
    }
   ],
   "source": [
    "for k,v in math5.get_eigen_stationarydist_Pl().items():\n",
    "    print(k)\n",
    "    pretty_print(v)"
   ]
  },
  {
   "cell_type": "code",
   "execution_count": 38,
   "metadata": {},
   "outputs": [
    {
     "name": "stdout",
     "output_type": "stream",
     "text": [
      "⎡1.0 ⎤\n",
      "⎢    ⎥\n",
      "⎢-0.5⎥\n",
      "⎢    ⎥\n",
      "⎢ 0  ⎥\n",
      "⎢    ⎥\n",
      "⎢-0.5⎥\n",
      "⎢    ⎥\n",
      "⎢ 0  ⎥\n",
      "⎢    ⎥\n",
      "⎣ 0  ⎦\n"
     ]
    }
   ],
   "source": [
    "pretty_print(Matrix(math5.get_eigen_stationarydist_Pl()['eigen values']))"
   ]
  },
  {
   "cell_type": "code",
   "execution_count": 14,
   "metadata": {},
   "outputs": [
    {
     "data": {
      "text/latex": [
       "$\\displaystyle \\left[\\begin{matrix}0.408 & 0.707 & 0.408 & 0.16 & -0.059 & 0.007\\\\0.408 & -0.707 & 0.408 & -0.16 & -0.059 & 0.007\\\\0.408 & 0.0 & -0.408 & 0.487 & -0.621 & 0.068\\\\0.408 & 0.0 & -0.408 & 0.487 & 0.738 & -0.082\\\\0.408 & 0.0 & -0.408 & -0.487 & -0.107 & -0.71\\\\0.408 & 0.0 & -0.408 & -0.487 & 0.224 & 0.696\\end{matrix}\\right]$"
      ],
      "text/plain": [
       "⎡0.408  0.707   0.408    0.16   -0.059  0.007 ⎤\n",
       "⎢                                             ⎥\n",
       "⎢0.408  -0.707  0.408   -0.16   -0.059  0.007 ⎥\n",
       "⎢                                             ⎥\n",
       "⎢0.408   0.0    -0.408  0.487   -0.621  0.068 ⎥\n",
       "⎢                                             ⎥\n",
       "⎢0.408   0.0    -0.408  0.487   0.738   -0.082⎥\n",
       "⎢                                             ⎥\n",
       "⎢0.408   0.0    -0.408  -0.487  -0.107  -0.71 ⎥\n",
       "⎢                                             ⎥\n",
       "⎣0.408   0.0    -0.408  -0.487  0.224   0.696 ⎦"
      ]
     },
     "execution_count": 14,
     "metadata": {},
     "output_type": "execute_result"
    }
   ],
   "source": [
    "Matrix(math5.get_eigen_stationarydist_Pl()['eigen vector'])"
   ]
  },
  {
   "cell_type": "code",
   "execution_count": 15,
   "metadata": {},
   "outputs": [],
   "source": [
    "w, e = np.linalg.eig(P)"
   ]
  },
  {
   "cell_type": "code",
   "execution_count": 18,
   "metadata": {},
   "outputs": [
    {
     "data": {
      "text/latex": [
       "$\\displaystyle \\left[\\begin{matrix}1.0\\\\-0.432\\\\-0.2\\\\0.232\\\\0.1\\\\0.232\\\\-0.432\\\\-0.5\\end{matrix}\\right]$"
      ],
      "text/plain": [
       "⎡ 1.0  ⎤\n",
       "⎢      ⎥\n",
       "⎢-0.432⎥\n",
       "⎢      ⎥\n",
       "⎢ -0.2 ⎥\n",
       "⎢      ⎥\n",
       "⎢0.232 ⎥\n",
       "⎢      ⎥\n",
       "⎢ 0.1  ⎥\n",
       "⎢      ⎥\n",
       "⎢0.232 ⎥\n",
       "⎢      ⎥\n",
       "⎢-0.432⎥\n",
       "⎢      ⎥\n",
       "⎣ -0.5 ⎦"
      ]
     },
     "execution_count": 18,
     "metadata": {},
     "output_type": "execute_result"
    }
   ],
   "source": [
    "Matrix(np.around(w,3))\n"
   ]
  },
  {
   "cell_type": "code",
   "execution_count": 19,
   "metadata": {},
   "outputs": [
    {
     "data": {
      "text/latex": [
       "$\\displaystyle \\left[\\begin{matrix}0.354 & 0.547 & -0.5 & 0.388 & -0.312 & -0.072 & -0.041 & 0.0\\\\0.354 & -0.547 & -0.5 & -0.388 & -0.312 & 0.072 & 0.041 & 0.0\\\\0.354 & 0.0 & 0.5 & 0.0 & -0.312 & 0.381 & 0.545 & 0.0\\\\0.354 & 0.0 & 0.5 & 0.0 & -0.312 & -0.381 & -0.545 & 0.0\\\\0.354 & -0.317 & 0.0 & 0.418 & 0.39 & -0.488 & 0.34 & -0.5\\\\0.354 & 0.317 & 0.0 & -0.418 & 0.39 & 0.488 & -0.34 & -0.5\\\\0.354 & -0.317 & 0.0 & 0.418 & 0.39 & 0.334 & -0.292 & 0.5\\\\0.354 & 0.317 & 0.0 & -0.418 & 0.39 & -0.334 & 0.292 & 0.5\\end{matrix}\\right]$"
      ],
      "text/plain": [
       "⎡0.354  0.547   -0.5  0.388   -0.312  -0.072  -0.041  0.0 ⎤\n",
       "⎢                                                         ⎥\n",
       "⎢0.354  -0.547  -0.5  -0.388  -0.312  0.072   0.041   0.0 ⎥\n",
       "⎢                                                         ⎥\n",
       "⎢0.354   0.0    0.5    0.0    -0.312  0.381   0.545   0.0 ⎥\n",
       "⎢                                                         ⎥\n",
       "⎢0.354   0.0    0.5    0.0    -0.312  -0.381  -0.545  0.0 ⎥\n",
       "⎢                                                         ⎥\n",
       "⎢0.354  -0.317  0.0   0.418    0.39   -0.488   0.34   -0.5⎥\n",
       "⎢                                                         ⎥\n",
       "⎢0.354  0.317   0.0   -0.418   0.39   0.488   -0.34   -0.5⎥\n",
       "⎢                                                         ⎥\n",
       "⎢0.354  -0.317  0.0   0.418    0.39   0.334   -0.292  0.5 ⎥\n",
       "⎢                                                         ⎥\n",
       "⎣0.354  0.317   0.0   -0.418   0.39   -0.334  0.292   0.5 ⎦"
      ]
     },
     "execution_count": 19,
     "metadata": {},
     "output_type": "execute_result"
    }
   ],
   "source": [
    "Matrix(np.around(e,3))"
   ]
  },
  {
   "cell_type": "code",
   "execution_count": 20,
   "metadata": {},
   "outputs": [],
   "source": [
    "math1 = mathdatasci.mathdatasci(P,l1)"
   ]
  },
  {
   "cell_type": "code",
   "execution_count": 21,
   "metadata": {},
   "outputs": [
    {
     "data": {
      "text/latex": [
       "$\\displaystyle \\left[\\begin{matrix}-0.378 & -0.738 & -0.246 & 0.0 & 0.0 & 0.0 & 0.0\\\\-0.378 & 0.464 & -0.418 & 0.388 & 0.0 & 0.0 & -0.547\\\\-0.378 & 0.464 & -0.418 & -0.388 & 0.0 & 0.0 & 0.547\\\\-0.378 & 0.079 & 0.384 & -0.418 & 0.5 & 0.5 & -0.317\\\\-0.378 & 0.079 & 0.384 & 0.418 & -0.5 & 0.5 & 0.317\\\\-0.378 & 0.079 & 0.384 & 0.418 & 0.5 & -0.5 & 0.317\\\\-0.378 & 0.079 & 0.384 & -0.418 & -0.5 & -0.5 & -0.317\\end{matrix}\\right]$"
      ],
      "text/plain": [
       "⎡-0.378  -0.738  -0.246   0.0    0.0   0.0    0.0  ⎤\n",
       "⎢                                                  ⎥\n",
       "⎢-0.378  0.464   -0.418  0.388   0.0   0.0   -0.547⎥\n",
       "⎢                                                  ⎥\n",
       "⎢-0.378  0.464   -0.418  -0.388  0.0   0.0   0.547 ⎥\n",
       "⎢                                                  ⎥\n",
       "⎢-0.378  0.079   0.384   -0.418  0.5   0.5   -0.317⎥\n",
       "⎢                                                  ⎥\n",
       "⎢-0.378  0.079   0.384   0.418   -0.5  0.5   0.317 ⎥\n",
       "⎢                                                  ⎥\n",
       "⎢-0.378  0.079   0.384   0.418   0.5   -0.5  0.317 ⎥\n",
       "⎢                                                  ⎥\n",
       "⎣-0.378  0.079   0.384   -0.418  -0.5  -0.5  -0.317⎦"
      ]
     },
     "execution_count": 21,
     "metadata": {},
     "output_type": "execute_result"
    }
   ],
   "source": [
    "Matrix(math1.get_eigen_stationarydist_Pl()['eigen vector'])"
   ]
  },
  {
   "cell_type": "code",
   "execution_count": 22,
   "metadata": {},
   "outputs": [
    {
     "data": {
      "text/latex": [
       "$\\displaystyle \\left[\\begin{matrix}1.0\\\\-0.368\\\\0.068\\\\0.232\\\\0\\\\-0.5\\\\-0.432\\end{matrix}\\right]$"
      ],
      "text/plain": [
       "⎡ 1.0  ⎤\n",
       "⎢      ⎥\n",
       "⎢-0.368⎥\n",
       "⎢      ⎥\n",
       "⎢0.068 ⎥\n",
       "⎢      ⎥\n",
       "⎢0.232 ⎥\n",
       "⎢      ⎥\n",
       "⎢  0   ⎥\n",
       "⎢      ⎥\n",
       "⎢ -0.5 ⎥\n",
       "⎢      ⎥\n",
       "⎣-0.432⎦"
      ]
     },
     "execution_count": 22,
     "metadata": {},
     "output_type": "execute_result"
    }
   ],
   "source": [
    "Matrix(math1.get_eigen_stationarydist_Pl()['eigen values'])"
   ]
  },
  {
   "cell_type": "code",
   "execution_count": 26,
   "metadata": {},
   "outputs": [],
   "source": [
    "math2 = mathdatasci.mathdatasci(P,l2)"
   ]
  },
  {
   "cell_type": "code",
   "execution_count": 27,
   "metadata": {},
   "outputs": [
    {
     "data": {
      "text/latex": [
       "$\\displaystyle \\left[\\begin{matrix}1.0\\\\0.232\\\\0.068\\\\-0.368\\\\-0.432\\\\-0.5\\\\0\\end{matrix}\\right]$"
      ],
      "text/plain": [
       "⎡ 1.0  ⎤\n",
       "⎢      ⎥\n",
       "⎢0.232 ⎥\n",
       "⎢      ⎥\n",
       "⎢0.068 ⎥\n",
       "⎢      ⎥\n",
       "⎢-0.368⎥\n",
       "⎢      ⎥\n",
       "⎢-0.432⎥\n",
       "⎢      ⎥\n",
       "⎢ -0.5 ⎥\n",
       "⎢      ⎥\n",
       "⎣  0   ⎦"
      ]
     },
     "execution_count": 27,
     "metadata": {},
     "output_type": "execute_result"
    }
   ],
   "source": [
    "Matrix(math2.get_eigen_stationarydist_Pl()['eigen values'])"
   ]
  },
  {
   "cell_type": "code",
   "execution_count": 28,
   "metadata": {},
   "outputs": [
    {
     "data": {
      "text/latex": [
       "$\\displaystyle \\left[\\begin{matrix}-0.378 & -0.388 & 0.418 & 0.464 & -0.547 & 0.0 & 0.0\\\\-0.378 & 0.388 & 0.418 & 0.464 & 0.547 & 0.0 & 0.0\\\\-0.378 & 0.0 & 0.246 & -0.738 & 0.0 & 0.0 & 0.0\\\\-0.378 & -0.418 & -0.384 & 0.079 & 0.317 & 0.5 & -0.5\\\\-0.378 & 0.418 & -0.384 & 0.079 & -0.317 & 0.5 & 0.5\\\\-0.378 & -0.418 & -0.384 & 0.079 & 0.317 & -0.5 & 0.5\\\\-0.378 & 0.418 & -0.384 & 0.079 & -0.317 & -0.5 & -0.5\\end{matrix}\\right]$"
      ],
      "text/plain": [
       "⎡-0.378  -0.388  0.418   0.464   -0.547  0.0   0.0 ⎤\n",
       "⎢                                                  ⎥\n",
       "⎢-0.378  0.388   0.418   0.464   0.547   0.0   0.0 ⎥\n",
       "⎢                                                  ⎥\n",
       "⎢-0.378   0.0    0.246   -0.738   0.0    0.0   0.0 ⎥\n",
       "⎢                                                  ⎥\n",
       "⎢-0.378  -0.418  -0.384  0.079   0.317   0.5   -0.5⎥\n",
       "⎢                                                  ⎥\n",
       "⎢-0.378  0.418   -0.384  0.079   -0.317  0.5   0.5 ⎥\n",
       "⎢                                                  ⎥\n",
       "⎢-0.378  -0.418  -0.384  0.079   0.317   -0.5  0.5 ⎥\n",
       "⎢                                                  ⎥\n",
       "⎣-0.378  0.418   -0.384  0.079   -0.317  -0.5  -0.5⎦"
      ]
     },
     "execution_count": 28,
     "metadata": {},
     "output_type": "execute_result"
    }
   ],
   "source": [
    "Matrix(math2.get_eigen_stationarydist_Pl()['eigen vector'])"
   ]
  },
  {
   "cell_type": "code",
   "execution_count": 29,
   "metadata": {},
   "outputs": [],
   "source": [
    "math3 = mathdatasci.mathdatasci(P,l3)"
   ]
  },
  {
   "cell_type": "code",
   "execution_count": 30,
   "metadata": {},
   "outputs": [
    {
     "data": {
      "text/latex": [
       "$\\displaystyle \\left[\\begin{matrix}1.0\\\\-0.576\\\\0.082\\\\-0.106\\\\-0.2\\\\-0.2\\end{matrix}\\right]$"
      ],
      "text/plain": [
       "⎡ 1.0  ⎤\n",
       "⎢      ⎥\n",
       "⎢-0.576⎥\n",
       "⎢      ⎥\n",
       "⎢0.082 ⎥\n",
       "⎢      ⎥\n",
       "⎢-0.106⎥\n",
       "⎢      ⎥\n",
       "⎢ -0.2 ⎥\n",
       "⎢      ⎥\n",
       "⎣ -0.2 ⎦"
      ]
     },
     "execution_count": 30,
     "metadata": {},
     "output_type": "execute_result"
    }
   ],
   "source": [
    "Matrix(math3.get_eigen_stationarydist_Pl()['eigen values'])"
   ]
  },
  {
   "cell_type": "code",
   "execution_count": 31,
   "metadata": {},
   "outputs": [
    {
     "data": {
      "text/latex": [
       "$\\displaystyle \\left[\\begin{matrix}-0.408 & -0.223 & -0.098 & 0.576 & 0.707 & 0.128\\\\-0.408 & 0.369 & 0.433 & -0.063 & 0.0 & -0.695\\\\-0.408 & 0.369 & 0.433 & -0.063 & 0.0 & 0.695\\\\-0.408 & -0.223 & -0.098 & 0.576 & -0.707 & -0.128\\\\-0.408 & 0.621 & -0.778 & -0.227 & 0.0 & 0.0\\\\-0.408 & -0.493 & -0.03 & -0.528 & 0.0 & 0.0\\end{matrix}\\right]$"
      ],
      "text/plain": [
       "⎡-0.408  -0.223  -0.098  0.576   0.707   0.128 ⎤\n",
       "⎢                                              ⎥\n",
       "⎢-0.408  0.369   0.433   -0.063   0.0    -0.695⎥\n",
       "⎢                                              ⎥\n",
       "⎢-0.408  0.369   0.433   -0.063   0.0    0.695 ⎥\n",
       "⎢                                              ⎥\n",
       "⎢-0.408  -0.223  -0.098  0.576   -0.707  -0.128⎥\n",
       "⎢                                              ⎥\n",
       "⎢-0.408  0.621   -0.778  -0.227   0.0     0.0  ⎥\n",
       "⎢                                              ⎥\n",
       "⎣-0.408  -0.493  -0.03   -0.528   0.0     0.0  ⎦"
      ]
     },
     "execution_count": 31,
     "metadata": {},
     "output_type": "execute_result"
    }
   ],
   "source": [
    "Matrix(math3.get_eigen_stationarydist_Pl()['eigen vector'])"
   ]
  },
  {
   "cell_type": "code",
   "execution_count": null,
   "metadata": {},
   "outputs": [],
   "source": []
  }
 ],
 "metadata": {
  "kernelspec": {
   "display_name": "Python (mathsci)",
   "language": "python",
   "name": "mathsci"
  },
  "language_info": {
   "codemirror_mode": {
    "name": "ipython",
    "version": 3
   },
   "file_extension": ".py",
   "mimetype": "text/x-python",
   "name": "python",
   "nbconvert_exporter": "python",
   "pygments_lexer": "ipython3",
   "version": "3.7.4"
  }
 },
 "nbformat": 4,
 "nbformat_minor": 2
}
