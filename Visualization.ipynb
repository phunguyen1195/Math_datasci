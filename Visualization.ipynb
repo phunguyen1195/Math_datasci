{
 "cells": [
  {
   "cell_type": "code",
   "execution_count": 76,
   "metadata": {},
   "outputs": [],
   "source": [
    "import numpy as np\n",
    "import matplotlib.pyplot as plt\n",
    "from scipy import linalg\n",
    "from discreteMarkovChain import markovChain\n",
    "import mathdatasci\n",
    "import seaborn as sns\n",
    "import pandas as pd"
   ]
  },
  {
   "cell_type": "code",
   "execution_count": 18,
   "metadata": {},
   "outputs": [],
   "source": [
    "P = np.array ([[0, 1/5, 1/5, 1/5, 1/5, 0, 1/5, 0],\n",
    "               [1/5, 0, 1/5, 1/5, 0, 1/5, 0, 1/5],\n",
    "               [1/5, 1/5, 0, 1/5, 0, 1/5, 1/5, 0],\n",
    "               [1/5, 1/5, 1/5, 0, 1/5, 0, 0, 1/5],\n",
    "               [1/4, 0, 0, 1/4, 0, 0, 1/4, 1/4],\n",
    "               [0, 1/4, 1/4, 0, 0, 0, 1/4, 1/4],\n",
    "               [1/4, 0, 1/4, 0, 1/4, 1/4, 0, 0],\n",
    "               [0, 1/4, 0, 1/4, 1/4, 1/4, 0, 0]\n",
    "    \n",
    "])\n",
    "\n",
    "l1 = np.array([[0,1] , [2], [3], [4], [5], [6], [7]])\n",
    "l2 = np.array([[0], [1] , [2,3], [4], [5], [6], [7]])\n",
    "l3 = np.array([[0], [1] , [2],[3], [4], [5 ,6, 7]])"
   ]
  },
  {
   "cell_type": "code",
   "execution_count": 77,
   "metadata": {},
   "outputs": [],
   "source": [
    "l4 = np.array([[0], [1,2], [3], [4], [5]])"
   ]
  },
  {
   "cell_type": "code",
   "execution_count": null,
   "metadata": {},
   "outputs": [],
   "source": [
    "v = np.array([])"
   ]
  },
  {
   "cell_type": "code",
   "execution_count": 80,
   "metadata": {},
   "outputs": [],
   "source": [
    "math5 = mathdatasci.mathdatasci(P, l4)"
   ]
  },
  {
   "cell_type": "code",
   "execution_count": 81,
   "metadata": {},
   "outputs": [
    {
     "data": {
      "text/plain": [
       "array([[1., 0., 0., 0., 0.],\n",
       "       [0., 1., 0., 0., 0.],\n",
       "       [0., 1., 0., 0., 0.],\n",
       "       [0., 0., 1., 0., 0.],\n",
       "       [0., 0., 0., 1., 0.],\n",
       "       [0., 0., 0., 0., 1.],\n",
       "       [0., 0., 0., 0., 0.],\n",
       "       [0., 0., 0., 0., 0.]])"
      ]
     },
     "execution_count": 81,
     "metadata": {},
     "output_type": "execute_result"
    }
   ],
   "source": [
    "math5.v"
   ]
  },
  {
   "cell_type": "code",
   "execution_count": 70,
   "metadata": {},
   "outputs": [],
   "source": [
    "w, e = np.linalg.eig(P)"
   ]
  },
  {
   "cell_type": "code",
   "execution_count": 71,
   "metadata": {},
   "outputs": [
    {
     "data": {
      "text/html": [
       "<div>\n",
       "<style scoped>\n",
       "    .dataframe tbody tr th:only-of-type {\n",
       "        vertical-align: middle;\n",
       "    }\n",
       "\n",
       "    .dataframe tbody tr th {\n",
       "        vertical-align: top;\n",
       "    }\n",
       "\n",
       "    .dataframe thead th {\n",
       "        text-align: right;\n",
       "    }\n",
       "</style>\n",
       "<table border=\"1\" class=\"dataframe\">\n",
       "  <thead>\n",
       "    <tr style=\"text-align: right;\">\n",
       "      <th></th>\n",
       "      <th>0</th>\n",
       "    </tr>\n",
       "  </thead>\n",
       "  <tbody>\n",
       "    <tr>\n",
       "      <th>0</th>\n",
       "      <td>1.000000</td>\n",
       "    </tr>\n",
       "    <tr>\n",
       "      <th>1</th>\n",
       "      <td>-0.431662</td>\n",
       "    </tr>\n",
       "    <tr>\n",
       "      <th>2</th>\n",
       "      <td>-0.200000</td>\n",
       "    </tr>\n",
       "    <tr>\n",
       "      <th>3</th>\n",
       "      <td>0.231662</td>\n",
       "    </tr>\n",
       "    <tr>\n",
       "      <th>4</th>\n",
       "      <td>0.100000</td>\n",
       "    </tr>\n",
       "    <tr>\n",
       "      <th>5</th>\n",
       "      <td>0.231662</td>\n",
       "    </tr>\n",
       "    <tr>\n",
       "      <th>6</th>\n",
       "      <td>-0.431662</td>\n",
       "    </tr>\n",
       "    <tr>\n",
       "      <th>7</th>\n",
       "      <td>-0.500000</td>\n",
       "    </tr>\n",
       "  </tbody>\n",
       "</table>\n",
       "</div>"
      ],
      "text/plain": [
       "          0\n",
       "0  1.000000\n",
       "1 -0.431662\n",
       "2 -0.200000\n",
       "3  0.231662\n",
       "4  0.100000\n",
       "5  0.231662\n",
       "6 -0.431662\n",
       "7 -0.500000"
      ]
     },
     "execution_count": 71,
     "metadata": {},
     "output_type": "execute_result"
    }
   ],
   "source": [
    "pd.DataFrame(w)"
   ]
  },
  {
   "cell_type": "code",
   "execution_count": 26,
   "metadata": {},
   "outputs": [],
   "source": [
    "math1 = mathdatasci.mathdatasci(P,l1)"
   ]
  },
  {
   "cell_type": "code",
   "execution_count": 82,
   "metadata": {},
   "outputs": [
    {
     "data": {
      "text/plain": [
       "array([[1., 0., 0., 0., 0., 0., 0.],\n",
       "       [1., 0., 0., 0., 0., 0., 0.],\n",
       "       [0., 1., 0., 0., 0., 0., 0.],\n",
       "       [0., 0., 1., 0., 0., 0., 0.],\n",
       "       [0., 0., 0., 1., 0., 0., 0.],\n",
       "       [0., 0., 0., 0., 1., 0., 0.],\n",
       "       [0., 0., 0., 0., 0., 1., 0.],\n",
       "       [0., 0., 0., 0., 0., 0., 1.]])"
      ]
     },
     "execution_count": 82,
     "metadata": {},
     "output_type": "execute_result"
    }
   ],
   "source": [
    "math1.v"
   ]
  },
  {
   "cell_type": "code",
   "execution_count": 52,
   "metadata": {},
   "outputs": [],
   "source": [
    "w, e = np.linalg.eig(math1.Pl)"
   ]
  },
  {
   "cell_type": "code",
   "execution_count": 55,
   "metadata": {},
   "outputs": [
    {
     "name": "stdout",
     "output_type": "stream",
     "text": [
      "[ 1.00000000e+00 -3.67944947e-01  6.79449472e-02  2.31662479e-01\n",
      " -4.20670443e-17 -5.00000000e-01 -4.31662479e-01]\n"
     ]
    }
   ],
   "source": [
    "print(w)"
   ]
  },
  {
   "cell_type": "code",
   "execution_count": 58,
   "metadata": {},
   "outputs": [
    {
     "data": {
      "text/html": [
       "<div>\n",
       "<style scoped>\n",
       "    .dataframe tbody tr th:only-of-type {\n",
       "        vertical-align: middle;\n",
       "    }\n",
       "\n",
       "    .dataframe tbody tr th {\n",
       "        vertical-align: top;\n",
       "    }\n",
       "\n",
       "    .dataframe thead th {\n",
       "        text-align: right;\n",
       "    }\n",
       "</style>\n",
       "<table border=\"1\" class=\"dataframe\">\n",
       "  <thead>\n",
       "    <tr style=\"text-align: right;\">\n",
       "      <th></th>\n",
       "      <th>0</th>\n",
       "    </tr>\n",
       "  </thead>\n",
       "  <tbody>\n",
       "    <tr>\n",
       "      <th>0</th>\n",
       "      <td>1.000000e+00</td>\n",
       "    </tr>\n",
       "    <tr>\n",
       "      <th>1</th>\n",
       "      <td>-3.679449e-01</td>\n",
       "    </tr>\n",
       "    <tr>\n",
       "      <th>2</th>\n",
       "      <td>6.794495e-02</td>\n",
       "    </tr>\n",
       "    <tr>\n",
       "      <th>3</th>\n",
       "      <td>2.316625e-01</td>\n",
       "    </tr>\n",
       "    <tr>\n",
       "      <th>4</th>\n",
       "      <td>-4.206704e-17</td>\n",
       "    </tr>\n",
       "    <tr>\n",
       "      <th>5</th>\n",
       "      <td>-5.000000e-01</td>\n",
       "    </tr>\n",
       "    <tr>\n",
       "      <th>6</th>\n",
       "      <td>-4.316625e-01</td>\n",
       "    </tr>\n",
       "  </tbody>\n",
       "</table>\n",
       "</div>"
      ],
      "text/plain": [
       "              0\n",
       "0  1.000000e+00\n",
       "1 -3.679449e-01\n",
       "2  6.794495e-02\n",
       "3  2.316625e-01\n",
       "4 -4.206704e-17\n",
       "5 -5.000000e-01\n",
       "6 -4.316625e-01"
      ]
     },
     "execution_count": 58,
     "metadata": {},
     "output_type": "execute_result"
    }
   ],
   "source": [
    "pd.DataFrame(w)"
   ]
  },
  {
   "cell_type": "code",
   "execution_count": 59,
   "metadata": {},
   "outputs": [
    {
     "data": {
      "text/html": [
       "<div>\n",
       "<style scoped>\n",
       "    .dataframe tbody tr th:only-of-type {\n",
       "        vertical-align: middle;\n",
       "    }\n",
       "\n",
       "    .dataframe tbody tr th {\n",
       "        vertical-align: top;\n",
       "    }\n",
       "\n",
       "    .dataframe thead th {\n",
       "        text-align: right;\n",
       "    }\n",
       "</style>\n",
       "<table border=\"1\" class=\"dataframe\">\n",
       "  <thead>\n",
       "    <tr style=\"text-align: right;\">\n",
       "      <th></th>\n",
       "      <th>0</th>\n",
       "      <th>1</th>\n",
       "      <th>2</th>\n",
       "      <th>3</th>\n",
       "      <th>4</th>\n",
       "      <th>5</th>\n",
       "      <th>6</th>\n",
       "    </tr>\n",
       "  </thead>\n",
       "  <tbody>\n",
       "    <tr>\n",
       "      <th>0</th>\n",
       "      <td>-0.377964</td>\n",
       "      <td>-0.737802</td>\n",
       "      <td>-0.246310</td>\n",
       "      <td>-9.352670e-17</td>\n",
       "      <td>-5.329073e-17</td>\n",
       "      <td>-1.473077e-17</td>\n",
       "      <td>2.087823e-16</td>\n",
       "    </tr>\n",
       "    <tr>\n",
       "      <th>1</th>\n",
       "      <td>-0.377964</td>\n",
       "      <td>0.464106</td>\n",
       "      <td>-0.417670</td>\n",
       "      <td>3.875412e-01</td>\n",
       "      <td>-1.386779e-16</td>\n",
       "      <td>-7.303703e-16</td>\n",
       "      <td>-5.470375e-01</td>\n",
       "    </tr>\n",
       "    <tr>\n",
       "      <th>2</th>\n",
       "      <td>-0.377964</td>\n",
       "      <td>0.464106</td>\n",
       "      <td>-0.417670</td>\n",
       "      <td>-3.875412e-01</td>\n",
       "      <td>4.601487e-17</td>\n",
       "      <td>8.230523e-16</td>\n",
       "      <td>5.470375e-01</td>\n",
       "    </tr>\n",
       "    <tr>\n",
       "      <th>3</th>\n",
       "      <td>-0.377964</td>\n",
       "      <td>0.078834</td>\n",
       "      <td>0.384199</td>\n",
       "      <td>-4.182175e-01</td>\n",
       "      <td>5.000000e-01</td>\n",
       "      <td>5.000000e-01</td>\n",
       "      <td>-3.168201e-01</td>\n",
       "    </tr>\n",
       "    <tr>\n",
       "      <th>4</th>\n",
       "      <td>-0.377964</td>\n",
       "      <td>0.078834</td>\n",
       "      <td>0.384199</td>\n",
       "      <td>4.182175e-01</td>\n",
       "      <td>-5.000000e-01</td>\n",
       "      <td>5.000000e-01</td>\n",
       "      <td>3.168201e-01</td>\n",
       "    </tr>\n",
       "    <tr>\n",
       "      <th>5</th>\n",
       "      <td>-0.377964</td>\n",
       "      <td>0.078834</td>\n",
       "      <td>0.384199</td>\n",
       "      <td>4.182175e-01</td>\n",
       "      <td>5.000000e-01</td>\n",
       "      <td>-5.000000e-01</td>\n",
       "      <td>3.168201e-01</td>\n",
       "    </tr>\n",
       "    <tr>\n",
       "      <th>6</th>\n",
       "      <td>-0.377964</td>\n",
       "      <td>0.078834</td>\n",
       "      <td>0.384199</td>\n",
       "      <td>-4.182175e-01</td>\n",
       "      <td>-5.000000e-01</td>\n",
       "      <td>-5.000000e-01</td>\n",
       "      <td>-3.168201e-01</td>\n",
       "    </tr>\n",
       "  </tbody>\n",
       "</table>\n",
       "</div>"
      ],
      "text/plain": [
       "          0         1         2             3             4             5  \\\n",
       "0 -0.377964 -0.737802 -0.246310 -9.352670e-17 -5.329073e-17 -1.473077e-17   \n",
       "1 -0.377964  0.464106 -0.417670  3.875412e-01 -1.386779e-16 -7.303703e-16   \n",
       "2 -0.377964  0.464106 -0.417670 -3.875412e-01  4.601487e-17  8.230523e-16   \n",
       "3 -0.377964  0.078834  0.384199 -4.182175e-01  5.000000e-01  5.000000e-01   \n",
       "4 -0.377964  0.078834  0.384199  4.182175e-01 -5.000000e-01  5.000000e-01   \n",
       "5 -0.377964  0.078834  0.384199  4.182175e-01  5.000000e-01 -5.000000e-01   \n",
       "6 -0.377964  0.078834  0.384199 -4.182175e-01 -5.000000e-01 -5.000000e-01   \n",
       "\n",
       "              6  \n",
       "0  2.087823e-16  \n",
       "1 -5.470375e-01  \n",
       "2  5.470375e-01  \n",
       "3 -3.168201e-01  \n",
       "4  3.168201e-01  \n",
       "5  3.168201e-01  \n",
       "6 -3.168201e-01  "
      ]
     },
     "execution_count": 59,
     "metadata": {},
     "output_type": "execute_result"
    }
   ],
   "source": [
    "pd.DataFrame(e)"
   ]
  },
  {
   "cell_type": "code",
   "execution_count": 49,
   "metadata": {},
   "outputs": [
    {
     "data": {
      "text/plain": [
       "(array([ 1.00000000e+00+0.j, -3.67944947e-01+0.j,  6.79449472e-02+0.j,\n",
       "         2.31662479e-01+0.j, -4.20670443e-17+0.j, -5.00000000e-01+0.j,\n",
       "        -4.31662479e-01+0.j]),\n",
       " array([[-5.99625351e-01, -8.70206831e-01, -4.19611015e-01,\n",
       "          0.00000000e+00,  0.00000000e+00,  0.00000000e+00,\n",
       "          0.00000000e+00],\n",
       "        [-3.74765844e-01,  3.42121663e-01, -4.44710673e-01,\n",
       "          4.48051342e-01,  3.06686630e-18, -1.29904175e-15,\n",
       "         -5.91448893e-01],\n",
       "        [-3.74765844e-01,  3.42121663e-01, -4.44710673e-01,\n",
       "         -4.48051342e-01,  5.24442849e-17,  1.34839794e-15,\n",
       "          5.91448893e-01],\n",
       "        [-2.99812676e-01,  4.64908766e-02,  3.27258090e-01,\n",
       "         -3.86813906e-01,  5.00000000e-01,  5.00000000e-01,\n",
       "         -2.74033034e-01],\n",
       "        [-2.99812676e-01,  4.64908766e-02,  3.27258090e-01,\n",
       "          3.86813906e-01, -5.00000000e-01,  5.00000000e-01,\n",
       "          2.74033034e-01],\n",
       "        [-2.99812676e-01,  4.64908766e-02,  3.27258090e-01,\n",
       "          3.86813906e-01,  5.00000000e-01, -5.00000000e-01,\n",
       "          2.74033034e-01],\n",
       "        [-2.99812676e-01,  4.64908766e-02,  3.27258090e-01,\n",
       "         -3.86813906e-01, -5.00000000e-01, -5.00000000e-01,\n",
       "         -2.74033034e-01]]),\n",
       " array([[-3.77964473e-01, -7.37801507e-01, -2.46310273e-01,\n",
       "         -9.35267026e-17, -5.32907305e-17, -1.47307710e-17,\n",
       "          2.08782317e-16],\n",
       "        [-3.77964473e-01,  4.64106452e-01, -4.17669903e-01,\n",
       "          3.87541233e-01, -1.38677943e-16, -7.30370291e-16,\n",
       "         -5.47037472e-01],\n",
       "        [-3.77964473e-01,  4.64106452e-01, -4.17669903e-01,\n",
       "         -3.87541233e-01,  4.60148682e-17,  8.23052275e-16,\n",
       "          5.47037472e-01],\n",
       "        [-3.77964473e-01,  7.88342210e-02,  3.84198826e-01,\n",
       "         -4.18217523e-01,  5.00000000e-01,  5.00000000e-01,\n",
       "         -3.16820142e-01],\n",
       "        [-3.77964473e-01,  7.88342210e-02,  3.84198826e-01,\n",
       "          4.18217523e-01, -5.00000000e-01,  5.00000000e-01,\n",
       "          3.16820142e-01],\n",
       "        [-3.77964473e-01,  7.88342210e-02,  3.84198826e-01,\n",
       "          4.18217523e-01,  5.00000000e-01, -5.00000000e-01,\n",
       "          3.16820142e-01],\n",
       "        [-3.77964473e-01,  7.88342210e-02,  3.84198826e-01,\n",
       "         -4.18217523e-01, -5.00000000e-01, -5.00000000e-01,\n",
       "         -3.16820142e-01]]))"
      ]
     },
     "execution_count": 49,
     "metadata": {},
     "output_type": "execute_result"
    }
   ],
   "source": [
    "w"
   ]
  },
  {
   "cell_type": "code",
   "execution_count": 28,
   "metadata": {},
   "outputs": [
    {
     "data": {
      "text/plain": [
       "{'eigen values': array([ 1.00000000e+00+0.j, -3.67944947e-01+0.j,  6.79449472e-02+0.j,\n",
       "         2.31662479e-01+0.j, -4.20670443e-17+0.j, -5.00000000e-01+0.j,\n",
       "        -4.31662479e-01+0.j]),\n",
       " 'eigen vector': array([[-5.99625351e-01, -8.70206831e-01, -4.19611015e-01,\n",
       "          0.00000000e+00,  0.00000000e+00,  0.00000000e+00,\n",
       "          0.00000000e+00],\n",
       "        [-3.74765844e-01,  3.42121663e-01, -4.44710673e-01,\n",
       "          4.48051342e-01,  3.06686630e-18, -1.29904175e-15,\n",
       "         -5.91448893e-01],\n",
       "        [-3.74765844e-01,  3.42121663e-01, -4.44710673e-01,\n",
       "         -4.48051342e-01,  5.24442849e-17,  1.34839794e-15,\n",
       "          5.91448893e-01],\n",
       "        [-2.99812676e-01,  4.64908766e-02,  3.27258090e-01,\n",
       "         -3.86813906e-01,  5.00000000e-01,  5.00000000e-01,\n",
       "         -2.74033034e-01],\n",
       "        [-2.99812676e-01,  4.64908766e-02,  3.27258090e-01,\n",
       "          3.86813906e-01, -5.00000000e-01,  5.00000000e-01,\n",
       "          2.74033034e-01],\n",
       "        [-2.99812676e-01,  4.64908766e-02,  3.27258090e-01,\n",
       "          3.86813906e-01,  5.00000000e-01, -5.00000000e-01,\n",
       "          2.74033034e-01],\n",
       "        [-2.99812676e-01,  4.64908766e-02,  3.27258090e-01,\n",
       "         -3.86813906e-01, -5.00000000e-01, -5.00000000e-01,\n",
       "         -2.74033034e-01]]),\n",
       " 'stationary distribution': array([0.23529412, 0.14705882, 0.14705882, 0.11764706, 0.11764706,\n",
       "        0.11764706, 0.11764706])}"
      ]
     },
     "execution_count": 28,
     "metadata": {},
     "output_type": "execute_result"
    }
   ],
   "source": [
    "math1.get_eigen_stationarydist()"
   ]
  },
  {
   "cell_type": "code",
   "execution_count": 24,
   "metadata": {},
   "outputs": [],
   "source": [
    "math2 = mathdatasci.mathdatasci(P,l2)"
   ]
  },
  {
   "cell_type": "code",
   "execution_count": 75,
   "metadata": {},
   "outputs": [
    {
     "data": {
      "text/plain": [
       "array([[1., 0., 0., 0., 0., 0., 0.],\n",
       "       [0., 1., 0., 0., 0., 0., 0.],\n",
       "       [0., 0., 1., 0., 0., 0., 0.],\n",
       "       [0., 0., 1., 0., 0., 0., 0.],\n",
       "       [0., 0., 0., 1., 0., 0., 0.],\n",
       "       [0., 0., 0., 0., 1., 0., 0.],\n",
       "       [0., 0., 0., 0., 0., 1., 0.],\n",
       "       [0., 0., 0., 0., 0., 0., 1.]])"
      ]
     },
     "execution_count": 75,
     "metadata": {},
     "output_type": "execute_result"
    }
   ],
   "source": [
    "math2.v"
   ]
  },
  {
   "cell_type": "code",
   "execution_count": 60,
   "metadata": {},
   "outputs": [
    {
     "data": {
      "text/plain": [
       "array([[0.   , 0.2  , 0.4  , 0.2  , 0.   , 0.2  , 0.   ],\n",
       "       [0.2  , 0.   , 0.4  , 0.   , 0.2  , 0.   , 0.2  ],\n",
       "       [0.25 , 0.25 , 0.   , 0.125, 0.125, 0.125, 0.125],\n",
       "       [0.25 , 0.   , 0.25 , 0.   , 0.   , 0.25 , 0.25 ],\n",
       "       [0.   , 0.25 , 0.25 , 0.   , 0.   , 0.25 , 0.25 ],\n",
       "       [0.25 , 0.   , 0.25 , 0.25 , 0.25 , 0.   , 0.   ],\n",
       "       [0.   , 0.25 , 0.25 , 0.25 , 0.25 , 0.   , 0.   ]])"
      ]
     },
     "execution_count": 60,
     "metadata": {},
     "output_type": "execute_result"
    }
   ],
   "source": [
    "math2.Pl"
   ]
  },
  {
   "cell_type": "code",
   "execution_count": 61,
   "metadata": {},
   "outputs": [],
   "source": [
    "w, e = np.linalg.eig(math2.Pl)"
   ]
  },
  {
   "cell_type": "code",
   "execution_count": 62,
   "metadata": {},
   "outputs": [
    {
     "data": {
      "text/html": [
       "<div>\n",
       "<style scoped>\n",
       "    .dataframe tbody tr th:only-of-type {\n",
       "        vertical-align: middle;\n",
       "    }\n",
       "\n",
       "    .dataframe tbody tr th {\n",
       "        vertical-align: top;\n",
       "    }\n",
       "\n",
       "    .dataframe thead th {\n",
       "        text-align: right;\n",
       "    }\n",
       "</style>\n",
       "<table border=\"1\" class=\"dataframe\">\n",
       "  <thead>\n",
       "    <tr style=\"text-align: right;\">\n",
       "      <th></th>\n",
       "      <th>0</th>\n",
       "    </tr>\n",
       "  </thead>\n",
       "  <tbody>\n",
       "    <tr>\n",
       "      <th>0</th>\n",
       "      <td>1.000000e+00</td>\n",
       "    </tr>\n",
       "    <tr>\n",
       "      <th>1</th>\n",
       "      <td>2.316625e-01</td>\n",
       "    </tr>\n",
       "    <tr>\n",
       "      <th>2</th>\n",
       "      <td>6.794495e-02</td>\n",
       "    </tr>\n",
       "    <tr>\n",
       "      <th>3</th>\n",
       "      <td>-3.679449e-01</td>\n",
       "    </tr>\n",
       "    <tr>\n",
       "      <th>4</th>\n",
       "      <td>-4.316625e-01</td>\n",
       "    </tr>\n",
       "    <tr>\n",
       "      <th>5</th>\n",
       "      <td>-5.000000e-01</td>\n",
       "    </tr>\n",
       "    <tr>\n",
       "      <th>6</th>\n",
       "      <td>2.026156e-17</td>\n",
       "    </tr>\n",
       "  </tbody>\n",
       "</table>\n",
       "</div>"
      ],
      "text/plain": [
       "              0\n",
       "0  1.000000e+00\n",
       "1  2.316625e-01\n",
       "2  6.794495e-02\n",
       "3 -3.679449e-01\n",
       "4 -4.316625e-01\n",
       "5 -5.000000e-01\n",
       "6  2.026156e-17"
      ]
     },
     "execution_count": 62,
     "metadata": {},
     "output_type": "execute_result"
    }
   ],
   "source": [
    "pd.DataFrame(w)"
   ]
  },
  {
   "cell_type": "code",
   "execution_count": 63,
   "metadata": {},
   "outputs": [
    {
     "data": {
      "text/html": [
       "<div>\n",
       "<style scoped>\n",
       "    .dataframe tbody tr th:only-of-type {\n",
       "        vertical-align: middle;\n",
       "    }\n",
       "\n",
       "    .dataframe tbody tr th {\n",
       "        vertical-align: top;\n",
       "    }\n",
       "\n",
       "    .dataframe thead th {\n",
       "        text-align: right;\n",
       "    }\n",
       "</style>\n",
       "<table border=\"1\" class=\"dataframe\">\n",
       "  <thead>\n",
       "    <tr style=\"text-align: right;\">\n",
       "      <th></th>\n",
       "      <th>0</th>\n",
       "      <th>1</th>\n",
       "      <th>2</th>\n",
       "      <th>3</th>\n",
       "      <th>4</th>\n",
       "      <th>5</th>\n",
       "      <th>6</th>\n",
       "    </tr>\n",
       "  </thead>\n",
       "  <tbody>\n",
       "    <tr>\n",
       "      <th>0</th>\n",
       "      <td>-0.377964</td>\n",
       "      <td>-3.875412e-01</td>\n",
       "      <td>0.417670</td>\n",
       "      <td>0.464106</td>\n",
       "      <td>-5.470375e-01</td>\n",
       "      <td>-1.303939e-17</td>\n",
       "      <td>-4.069196e-17</td>\n",
       "    </tr>\n",
       "    <tr>\n",
       "      <th>1</th>\n",
       "      <td>-0.377964</td>\n",
       "      <td>3.875412e-01</td>\n",
       "      <td>0.417670</td>\n",
       "      <td>0.464106</td>\n",
       "      <td>5.470375e-01</td>\n",
       "      <td>3.043826e-16</td>\n",
       "      <td>2.132218e-17</td>\n",
       "    </tr>\n",
       "    <tr>\n",
       "      <th>2</th>\n",
       "      <td>-0.377964</td>\n",
       "      <td>9.298644e-17</td>\n",
       "      <td>0.246310</td>\n",
       "      <td>-0.737802</td>\n",
       "      <td>4.161262e-16</td>\n",
       "      <td>-1.991459e-16</td>\n",
       "      <td>-4.863969e-17</td>\n",
       "    </tr>\n",
       "    <tr>\n",
       "      <th>3</th>\n",
       "      <td>-0.377964</td>\n",
       "      <td>-4.182175e-01</td>\n",
       "      <td>-0.384199</td>\n",
       "      <td>0.078834</td>\n",
       "      <td>3.168201e-01</td>\n",
       "      <td>5.000000e-01</td>\n",
       "      <td>-5.000000e-01</td>\n",
       "    </tr>\n",
       "    <tr>\n",
       "      <th>4</th>\n",
       "      <td>-0.377964</td>\n",
       "      <td>4.182175e-01</td>\n",
       "      <td>-0.384199</td>\n",
       "      <td>0.078834</td>\n",
       "      <td>-3.168201e-01</td>\n",
       "      <td>5.000000e-01</td>\n",
       "      <td>5.000000e-01</td>\n",
       "    </tr>\n",
       "    <tr>\n",
       "      <th>5</th>\n",
       "      <td>-0.377964</td>\n",
       "      <td>-4.182175e-01</td>\n",
       "      <td>-0.384199</td>\n",
       "      <td>0.078834</td>\n",
       "      <td>3.168201e-01</td>\n",
       "      <td>-5.000000e-01</td>\n",
       "      <td>5.000000e-01</td>\n",
       "    </tr>\n",
       "    <tr>\n",
       "      <th>6</th>\n",
       "      <td>-0.377964</td>\n",
       "      <td>4.182175e-01</td>\n",
       "      <td>-0.384199</td>\n",
       "      <td>0.078834</td>\n",
       "      <td>-3.168201e-01</td>\n",
       "      <td>-5.000000e-01</td>\n",
       "      <td>-5.000000e-01</td>\n",
       "    </tr>\n",
       "  </tbody>\n",
       "</table>\n",
       "</div>"
      ],
      "text/plain": [
       "          0             1         2         3             4             5  \\\n",
       "0 -0.377964 -3.875412e-01  0.417670  0.464106 -5.470375e-01 -1.303939e-17   \n",
       "1 -0.377964  3.875412e-01  0.417670  0.464106  5.470375e-01  3.043826e-16   \n",
       "2 -0.377964  9.298644e-17  0.246310 -0.737802  4.161262e-16 -1.991459e-16   \n",
       "3 -0.377964 -4.182175e-01 -0.384199  0.078834  3.168201e-01  5.000000e-01   \n",
       "4 -0.377964  4.182175e-01 -0.384199  0.078834 -3.168201e-01  5.000000e-01   \n",
       "5 -0.377964 -4.182175e-01 -0.384199  0.078834  3.168201e-01 -5.000000e-01   \n",
       "6 -0.377964  4.182175e-01 -0.384199  0.078834 -3.168201e-01 -5.000000e-01   \n",
       "\n",
       "              6  \n",
       "0 -4.069196e-17  \n",
       "1  2.132218e-17  \n",
       "2 -4.863969e-17  \n",
       "3 -5.000000e-01  \n",
       "4  5.000000e-01  \n",
       "5  5.000000e-01  \n",
       "6 -5.000000e-01  "
      ]
     },
     "execution_count": 63,
     "metadata": {},
     "output_type": "execute_result"
    }
   ],
   "source": [
    "pd.DataFrame(e)"
   ]
  },
  {
   "cell_type": "code",
   "execution_count": 25,
   "metadata": {},
   "outputs": [
    {
     "data": {
      "text/plain": [
       "{'eigen values': array([ 1.00000000e+00+0.j,  2.31662479e-01+0.j,  6.79449472e-02+0.j,\n",
       "        -3.67944947e-01+0.j, -4.31662479e-01+0.j, -5.00000000e-01+0.j,\n",
       "         2.02615628e-17+0.j]),\n",
       " 'eigen vector': array([[-3.74765844e-01, -4.48051342e-01,  4.44710673e-01,\n",
       "          3.42121663e-01, -5.91448893e-01, -1.29503139e-16,\n",
       "         -2.72800541e-16],\n",
       "        [-3.74765844e-01,  4.48051342e-01,  4.44710673e-01,\n",
       "          3.42121663e-01,  5.91448893e-01,  5.93495635e-16,\n",
       "         -3.33164830e-16],\n",
       "        [-5.99625351e-01, -1.30008390e-16,  4.19611015e-01,\n",
       "         -8.70206831e-01, -1.39827987e-15, -5.77328432e-16,\n",
       "         -7.70499281e-17],\n",
       "        [-2.99812676e-01, -3.86813906e-01, -3.27258090e-01,\n",
       "          4.64908766e-02,  2.74033034e-01,  5.00000000e-01,\n",
       "         -5.00000000e-01],\n",
       "        [-2.99812676e-01,  3.86813906e-01, -3.27258090e-01,\n",
       "          4.64908766e-02, -2.74033034e-01,  5.00000000e-01,\n",
       "          5.00000000e-01],\n",
       "        [-2.99812676e-01, -3.86813906e-01, -3.27258090e-01,\n",
       "          4.64908766e-02,  2.74033034e-01, -5.00000000e-01,\n",
       "          5.00000000e-01],\n",
       "        [-2.99812676e-01,  3.86813906e-01, -3.27258090e-01,\n",
       "          4.64908766e-02, -2.74033034e-01, -5.00000000e-01,\n",
       "         -5.00000000e-01]]),\n",
       " 'stationary distribution': array([0.14705882, 0.14705882, 0.23529412, 0.11764706, 0.11764706,\n",
       "        0.11764706, 0.11764706])}"
      ]
     },
     "execution_count": 25,
     "metadata": {},
     "output_type": "execute_result"
    }
   ],
   "source": [
    "math2.get_eigen_stationarydist()"
   ]
  },
  {
   "cell_type": "code",
   "execution_count": 29,
   "metadata": {},
   "outputs": [],
   "source": [
    "math3 = mathdatasci.mathdatasci(P,l3)"
   ]
  },
  {
   "cell_type": "code",
   "execution_count": 64,
   "metadata": {},
   "outputs": [
    {
     "data": {
      "text/plain": [
       "array([[0.   , 0.2  , 0.2  , 0.2  , 0.2  , 0.2  ],\n",
       "       [0.2  , 0.   , 0.2  , 0.2  , 0.   , 0.4  ],\n",
       "       [0.2  , 0.2  , 0.   , 0.2  , 0.   , 0.4  ],\n",
       "       [0.2  , 0.2  , 0.2  , 0.   , 0.2  , 0.2  ],\n",
       "       [0.25 , 0.   , 0.   , 0.25 , 0.   , 0.5  ],\n",
       "       [0.125, 0.25 , 0.25 , 0.125, 0.25 , 0.   ]])"
      ]
     },
     "execution_count": 64,
     "metadata": {},
     "output_type": "execute_result"
    }
   ],
   "source": [
    "math3.Pl"
   ]
  },
  {
   "cell_type": "code",
   "execution_count": 65,
   "metadata": {},
   "outputs": [],
   "source": [
    "w, e = np.linalg.eig(math3.Pl)"
   ]
  },
  {
   "cell_type": "code",
   "execution_count": 69,
   "metadata": {},
   "outputs": [
    {
     "data": {
      "text/html": [
       "<div>\n",
       "<style scoped>\n",
       "    .dataframe tbody tr th:only-of-type {\n",
       "        vertical-align: middle;\n",
       "    }\n",
       "\n",
       "    .dataframe tbody tr th {\n",
       "        vertical-align: top;\n",
       "    }\n",
       "\n",
       "    .dataframe thead th {\n",
       "        text-align: right;\n",
       "    }\n",
       "</style>\n",
       "<table border=\"1\" class=\"dataframe\">\n",
       "  <thead>\n",
       "    <tr style=\"text-align: right;\">\n",
       "      <th></th>\n",
       "      <th>0</th>\n",
       "      <th>1</th>\n",
       "      <th>2</th>\n",
       "      <th>3</th>\n",
       "      <th>4</th>\n",
       "      <th>5</th>\n",
       "    </tr>\n",
       "  </thead>\n",
       "  <tbody>\n",
       "    <tr>\n",
       "      <th>0</th>\n",
       "      <td>-0.408248</td>\n",
       "      <td>-0.223131</td>\n",
       "      <td>-0.097532</td>\n",
       "      <td>0.575501</td>\n",
       "      <td>7.071068e-01</td>\n",
       "      <td>1.284008e-01</td>\n",
       "    </tr>\n",
       "    <tr>\n",
       "      <th>1</th>\n",
       "      <td>-0.408248</td>\n",
       "      <td>0.368822</td>\n",
       "      <td>0.432847</td>\n",
       "      <td>-0.062761</td>\n",
       "      <td>2.474165e-15</td>\n",
       "      <td>-6.953512e-01</td>\n",
       "    </tr>\n",
       "    <tr>\n",
       "      <th>2</th>\n",
       "      <td>-0.408248</td>\n",
       "      <td>0.368822</td>\n",
       "      <td>0.432847</td>\n",
       "      <td>-0.062761</td>\n",
       "      <td>-2.360964e-15</td>\n",
       "      <td>6.953512e-01</td>\n",
       "    </tr>\n",
       "    <tr>\n",
       "      <th>3</th>\n",
       "      <td>-0.408248</td>\n",
       "      <td>-0.223131</td>\n",
       "      <td>-0.097532</td>\n",
       "      <td>0.575501</td>\n",
       "      <td>-7.071068e-01</td>\n",
       "      <td>-1.284008e-01</td>\n",
       "    </tr>\n",
       "    <tr>\n",
       "      <th>4</th>\n",
       "      <td>-0.408248</td>\n",
       "      <td>0.621032</td>\n",
       "      <td>-0.778046</td>\n",
       "      <td>-0.226799</td>\n",
       "      <td>4.001527e-16</td>\n",
       "      <td>1.701473e-16</td>\n",
       "    </tr>\n",
       "    <tr>\n",
       "      <th>5</th>\n",
       "      <td>-0.408248</td>\n",
       "      <td>-0.492630</td>\n",
       "      <td>-0.030121</td>\n",
       "      <td>-0.527525</td>\n",
       "      <td>1.031144e-16</td>\n",
       "      <td>1.354934e-16</td>\n",
       "    </tr>\n",
       "  </tbody>\n",
       "</table>\n",
       "</div>"
      ],
      "text/plain": [
       "          0         1         2         3             4             5\n",
       "0 -0.408248 -0.223131 -0.097532  0.575501  7.071068e-01  1.284008e-01\n",
       "1 -0.408248  0.368822  0.432847 -0.062761  2.474165e-15 -6.953512e-01\n",
       "2 -0.408248  0.368822  0.432847 -0.062761 -2.360964e-15  6.953512e-01\n",
       "3 -0.408248 -0.223131 -0.097532  0.575501 -7.071068e-01 -1.284008e-01\n",
       "4 -0.408248  0.621032 -0.778046 -0.226799  4.001527e-16  1.701473e-16\n",
       "5 -0.408248 -0.492630 -0.030121 -0.527525  1.031144e-16  1.354934e-16"
      ]
     },
     "execution_count": 69,
     "metadata": {},
     "output_type": "execute_result"
    }
   ],
   "source": [
    "pd.DataFrame(e)"
   ]
  },
  {
   "cell_type": "code",
   "execution_count": 30,
   "metadata": {},
   "outputs": [
    {
     "data": {
      "text/plain": [
       "{'eigen values': array([ 1.        +0.j, -0.57626702+0.j,  0.08203424+0.j, -0.10576722+0.j,\n",
       "        -0.2       +0.j, -0.2       +0.j]),\n",
       " 'eigen vector': array([[-3.72677996e-01, -2.00398513e-01, -1.10186981e-01,\n",
       "          4.83698836e-01,  6.95351157e-01,  2.28579042e-15],\n",
       "        [-3.72677996e-01,  3.31246452e-01,  4.89010526e-01,\n",
       "         -5.27497452e-02,  1.28400814e-01, -7.07106781e-01],\n",
       "        [-3.72677996e-01,  3.31246452e-01,  4.89010526e-01,\n",
       "         -5.27497452e-02, -1.28400814e-01,  7.07106781e-01],\n",
       "        [-3.72677996e-01, -2.00398513e-01, -1.10186981e-01,\n",
       "          4.83698836e-01, -6.95351157e-01, -2.20707325e-15],\n",
       "        [-2.98142397e-01,  4.46209287e-01, -7.03200265e-01,\n",
       "         -1.52496616e-01,  7.68505231e-17,  9.28831450e-18],\n",
       "        [-5.96284794e-01, -7.07905163e-01, -5.44468255e-02,\n",
       "         -7.09401567e-01, -1.43346635e-17,  2.94042367e-16]]),\n",
       " 'stationary distribution': array([0.15625, 0.15625, 0.15625, 0.15625, 0.125  , 0.25   ])}"
      ]
     },
     "execution_count": 30,
     "metadata": {},
     "output_type": "execute_result"
    }
   ],
   "source": [
    "math3.get_eigen_stationarydist()"
   ]
  },
  {
   "cell_type": "code",
   "execution_count": 43,
   "metadata": {},
   "outputs": [
    {
     "data": {
      "text/plain": [
       "<matplotlib.axes._subplots.AxesSubplot at 0x7fdd6356b350>"
      ]
     },
     "execution_count": 43,
     "metadata": {},
     "output_type": "execute_result"
    },
    {
     "data": {
      "image/png": "[encoded data removed]",
      "text/plain": [
       "<Figure size 720x720 with 2 Axes>"
      ]
     },
     "metadata": {
      "needs_background": "light"
     },
     "output_type": "display_data"
    }
   ],
   "source": [
    "plt.figure(figsize=(10, 10))\n",
    "sns.heatmap(math3.eigen_stationarydist[\"eigen vector\"], annot=True,fmt='.1f')"
   ]
  },
  {
   "cell_type": "code",
   "execution_count": 83,
   "metadata": {},
   "outputs": [
    {
     "data": {
      "text/plain": [
       "array([[1., 0., 0., 0., 0., 0.],\n",
       "       [0., 1., 0., 0., 0., 0.],\n",
       "       [0., 0., 1., 0., 0., 0.],\n",
       "       [0., 0., 0., 1., 0., 0.],\n",
       "       [0., 0., 0., 0., 1., 0.],\n",
       "       [0., 0., 0., 0., 0., 1.],\n",
       "       [0., 0., 0., 0., 0., 1.],\n",
       "       [0., 0., 0., 0., 0., 1.]])"
      ]
     },
     "execution_count": 83,
     "metadata": {},
     "output_type": "execute_result"
    }
   ],
   "source": [
    "math3.v"
   ]
  },
  {
   "cell_type": "code",
   "execution_count": null,
   "metadata": {},
   "outputs": [],
   "source": []
  }
 ],
 "metadata": {
  "kernelspec": {
   "display_name": "Python (mathsci)",
   "language": "python",
   "name": "mathsci"
  },
  "language_info": {
   "codemirror_mode": {
    "name": "ipython",
    "version": 3
   },
   "file_extension": ".py",
   "mimetype": "text/x-python",
   "name": "python",
   "nbconvert_exporter": "python",
   "pygments_lexer": "ipython3",
   "version": "3.7.4"
  }
 },
 "nbformat": 4,
 "nbformat_minor": 2
}
