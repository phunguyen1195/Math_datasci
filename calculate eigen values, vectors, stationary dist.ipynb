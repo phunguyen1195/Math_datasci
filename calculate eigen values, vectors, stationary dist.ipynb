{
 "cells": [
  {
   "cell_type": "code",
   "execution_count": 2,
   "metadata": {},
   "outputs": [],
   "source": [
    "import numpy as np\n",
    "from scipy import linalg\n",
    "from discreteMarkovChain import markovChain"
   ]
  },
  {
   "cell_type": "code",
   "execution_count": 84,
   "metadata": {},
   "outputs": [],
   "source": [
    "P = np.array ([[0, 1/5, 1/5, 1/5, 1/5, 0, 1/5, 0],\n",
    "               [1/5, 0, 1/5, 1/5, 0, 1/5, 0, 1/5],\n",
    "               [1/5, 1/5, 0, 1/5, 0, 1/5, 1/5, 0],\n",
    "               [1/5, 1/5, 1/5, 0, 1/5, 0, 0, 1/5],\n",
    "               [1/4, 0, 0, 1/4, 0, 0, 1/4, 1/4],\n",
    "               [0, 1/4, 1/4, 0, 0, 0, 1/4, 1/4],\n",
    "               [1/4, 0, 1/4, 0, 1/4, 1/4, 0, 0],\n",
    "               [0, 1/4, 0, 1/4, 1/4, 1/4, 0, 0]\n",
    "    \n",
    "])"
   ]
  },
  {
   "cell_type": "code",
   "execution_count": 112,
   "metadata": {},
   "outputs": [
    {
     "data": {
      "text/plain": [
       "array([[1., 0., 0., 0., 0., 0., 0.],\n",
       "       [1., 0., 0., 0., 0., 0., 0.],\n",
       "       [0., 1., 0., 0., 0., 0., 0.],\n",
       "       [0., 0., 1., 0., 0., 0., 0.],\n",
       "       [0., 0., 0., 1., 0., 0., 0.],\n",
       "       [0., 0., 0., 0., 1., 0., 0.],\n",
       "       [0., 0., 0., 0., 0., 1., 0.],\n",
       "       [0., 0., 0., 0., 0., 0., 1.]])"
      ]
     },
     "execution_count": 112,
     "metadata": {},
     "output_type": "execute_result"
    }
   ],
   "source": [
    "#making V matrices\n",
    "\n",
    "l = np.array([[0,1] , [2], [3], [4], [5], [6], [7]])\n",
    "def get_v (loc_matrix):\n",
    "    v = np.zeros((l.size, l.itemsize))\n",
    "    for k in range(l.size):\n",
    "        for o in l[k]:\n",
    "            v[k][o] = 1.0\n",
    "    v = v.T\n",
    "    return v\n",
    "\n",
    "get_v(l)"
   ]
  },
  {
   "cell_type": "code",
   "execution_count": 113,
   "metadata": {},
   "outputs": [
    {
     "data": {
      "text/plain": [
       "array([[0.5, 0.5, 0. , 0. , 0. , 0. , 0. , 0. ],\n",
       "       [0. , 0. , 1. , 0. , 0. , 0. , 0. , 0. ],\n",
       "       [0. , 0. , 0. , 1. , 0. , 0. , 0. , 0. ],\n",
       "       [0. , 0. , 0. , 0. , 1. , 0. , 0. , 0. ],\n",
       "       [0. , 0. , 0. , 0. , 0. , 1. , 0. , 0. ],\n",
       "       [0. , 0. , 0. , 0. , 0. , 0. , 1. , 0. ],\n",
       "       [0. , 0. , 0. , 0. , 0. , 0. , 0. , 1. ]])"
      ]
     },
     "execution_count": 113,
     "metadata": {},
     "output_type": "execute_result"
    }
   ],
   "source": [
    "def get_u (v):\n",
    "    u = np.linalg.inv(np.dot(v.T,v))\n",
    "    u = u.dot(v.T)\n",
    "    return u\n",
    "get_u (get_v(l))"
   ]
  },
  {
   "cell_type": "code",
   "execution_count": 114,
   "metadata": {},
   "outputs": [],
   "source": [
    "def get_Pnl (u, p, v):\n",
    "    Pl = u.dot(p).dot(v)\n",
    "    return Pl\n",
    "P1 = get_Pnl(get_u (get_v(l)),P,get_v(l))"
   ]
  },
  {
   "cell_type": "code",
   "execution_count": 115,
   "metadata": {},
   "outputs": [
    {
     "data": {
      "text/plain": [
       "array([[0.2 , 0.2 , 0.2 , 0.1 , 0.1 , 0.1 , 0.1 ],\n",
       "       [0.4 , 0.  , 0.2 , 0.  , 0.2 , 0.2 , 0.  ],\n",
       "       [0.4 , 0.2 , 0.  , 0.2 , 0.  , 0.  , 0.2 ],\n",
       "       [0.25, 0.  , 0.25, 0.  , 0.  , 0.25, 0.25],\n",
       "       [0.25, 0.25, 0.  , 0.  , 0.  , 0.25, 0.25],\n",
       "       [0.25, 0.25, 0.  , 0.25, 0.25, 0.  , 0.  ],\n",
       "       [0.25, 0.  , 0.25, 0.25, 0.25, 0.  , 0.  ]])"
      ]
     },
     "execution_count": 115,
     "metadata": {},
     "output_type": "execute_result"
    }
   ],
   "source": [
    "P1"
   ]
  },
  {
   "cell_type": "code",
   "execution_count": 117,
   "metadata": {},
   "outputs": [],
   "source": [
    "def normalize_stochastic_matrix (x):\n",
    "    for i in range (int (np.sqrt(x.size))):\n",
    "        k = 1 - x[i][i]\n",
    "        x[i][i] = 0\n",
    "        x[i]  =x[i]* ((k)**(-1))\n",
    "    return x\n",
    "\n",
    "P1n = normalize_stochastic_matrix(P1)"
   ]
  },
  {
   "cell_type": "code",
   "execution_count": 78,
   "metadata": {},
   "outputs": [
    {
     "data": {
      "text/plain": [
       "0.4"
      ]
     },
     "execution_count": 78,
     "metadata": {},
     "output_type": "execute_result"
    }
   ],
   "source": [
    "2/5"
   ]
  },
  {
   "cell_type": "code",
   "execution_count": null,
   "metadata": {},
   "outputs": [],
   "source": [
    "def get_eigen_stationarydist(m):\n",
    "    w, vl, vr = linalg.eig(m, left=True)\n",
    "    mc = markovChain(m)\n",
    "    mc.computePi('linear')\n",
    "    return {'eigen values': w, 'eigen vector': vl,'stationary distribution': mc.pi}\n",
    "\n",
    "get_eigen_stationarydist(P1n)"
   ]
  },
  {
   "cell_type": "code",
   "execution_count": null,
   "metadata": {},
   "outputs": [],
   "source": []
  }
 ],
 "metadata": {
  "kernelspec": {
   "display_name": "Python (mathsci)",
   "language": "python",
   "name": "mathsci"
  },
  "language_info": {
   "codemirror_mode": {
    "name": "ipython",
    "version": 3
   },
   "file_extension": ".py",
   "mimetype": "text/x-python",
   "name": "python",
   "nbconvert_exporter": "python",
   "pygments_lexer": "ipython3",
   "version": "3.7.4"
  }
 },
 "nbformat": 4,
 "nbformat_minor": 2
}
