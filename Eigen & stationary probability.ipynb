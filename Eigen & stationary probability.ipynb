{
 "cells": [
  {
   "cell_type": "code",
   "execution_count": 1,
   "metadata": {},
   "outputs": [],
   "source": [
    "import numpy as np\n",
    "from numpy import linalg as LA"
   ]
  },
  {
   "cell_type": "code",
   "execution_count": 2,
   "metadata": {},
   "outputs": [],
   "source": [
    "a, b = 1/5, 1/4"
   ]
  },
  {
   "cell_type": "code",
   "execution_count": 72,
   "metadata": {},
   "outputs": [],
   "source": [
    "m = np.array([[0, a, a, a, a, 0, a, 0],\n",
    "              [a, 0, a, a, 0, a, 0, a],\n",
    "              [a, a, 0, a, 0, a, a, 0],\n",
    "              [a, a, a, 0, a, 0, 0, a],\n",
    "              [b, 0, 0, b, 0, 0, b, b],\n",
    "              [0, b, b, 0, 0, 0, b, b],\n",
    "              [b, 0, b, 0, b, b, 0, 0],\n",
    "              [0, b, 0, b, b, b, 0, 0]])"
   ]
  },
  {
   "cell_type": "code",
   "execution_count": 74,
   "metadata": {},
   "outputs": [
    {
     "data": {
      "text/plain": [
       "array([[0.  , 0.2 , 0.2 , 0.2 , 0.2 , 0.  , 0.2 , 0.  ],\n",
       "       [0.2 , 0.  , 0.2 , 0.2 , 0.  , 0.2 , 0.  , 0.2 ],\n",
       "       [0.2 , 0.2 , 0.  , 0.2 , 0.  , 0.2 , 0.2 , 0.  ],\n",
       "       [0.2 , 0.2 , 0.2 , 0.  , 0.2 , 0.  , 0.  , 0.2 ],\n",
       "       [0.25, 0.  , 0.  , 0.25, 0.  , 0.  , 0.25, 0.25],\n",
       "       [0.  , 0.25, 0.25, 0.  , 0.  , 0.  , 0.25, 0.25],\n",
       "       [0.25, 0.  , 0.25, 0.  , 0.25, 0.25, 0.  , 0.  ],\n",
       "       [0.  , 0.25, 0.  , 0.25, 0.25, 0.25, 0.  , 0.  ]])"
      ]
     },
     "execution_count": 74,
     "metadata": {},
     "output_type": "execute_result"
    }
   ],
   "source": [
    "m"
   ]
  },
  {
   "cell_type": "code",
   "execution_count": 73,
   "metadata": {},
   "outputs": [
    {
     "data": {
      "text/plain": [
       "8"
      ]
     },
     "execution_count": 73,
     "metadata": {},
     "output_type": "execute_result"
    }
   ],
   "source": [
    "len(m)"
   ]
  },
  {
   "cell_type": "markdown",
   "metadata": {},
   "source": [
    "get eigen vector"
   ]
  },
  {
   "cell_type": "code",
   "execution_count": 4,
   "metadata": {},
   "outputs": [],
   "source": [
    "# normalize the matrix so that rows sum to 1\n",
    "\n",
    "P = m/np.sum(m, 1)[:, np.newaxis]"
   ]
  },
  {
   "cell_type": "code",
   "execution_count": 5,
   "metadata": {},
   "outputs": [
    {
     "data": {
      "text/plain": [
       "array([[0.  , 0.2 , 0.2 , 0.2 , 0.2 , 0.  , 0.2 , 0.  ],\n",
       "       [0.2 , 0.  , 0.2 , 0.2 , 0.  , 0.2 , 0.  , 0.2 ],\n",
       "       [0.2 , 0.2 , 0.  , 0.2 , 0.  , 0.2 , 0.2 , 0.  ],\n",
       "       [0.2 , 0.2 , 0.2 , 0.  , 0.2 , 0.  , 0.  , 0.2 ],\n",
       "       [0.25, 0.  , 0.  , 0.25, 0.  , 0.  , 0.25, 0.25],\n",
       "       [0.  , 0.25, 0.25, 0.  , 0.  , 0.  , 0.25, 0.25],\n",
       "       [0.25, 0.  , 0.25, 0.  , 0.25, 0.25, 0.  , 0.  ],\n",
       "       [0.  , 0.25, 0.  , 0.25, 0.25, 0.25, 0.  , 0.  ]])"
      ]
     },
     "execution_count": 5,
     "metadata": {},
     "output_type": "execute_result"
    }
   ],
   "source": [
    "P"
   ]
  },
  {
   "cell_type": "code",
   "execution_count": 6,
   "metadata": {},
   "outputs": [],
   "source": [
    "eigenvalues, eigenvectors = np.linalg.eig(P.T)"
   ]
  },
  {
   "cell_type": "code",
   "execution_count": 7,
   "metadata": {},
   "outputs": [
    {
     "data": {
      "text/plain": [
       "array([0.13888889, 0.13888889, 0.13888889, 0.13888889, 0.11111111,\n",
       "       0.11111111, 0.11111111, 0.11111111])"
      ]
     },
     "execution_count": 7,
     "metadata": {},
     "output_type": "execute_result"
    }
   ],
   "source": [
    "# find index of eigenvalue = 1\n",
    "idx = np.argmin(np.abs(eigenvalues - 1))\n",
    "w = np.real(eigenvectors[:, idx]).T\n",
    "# remember to normalize eigenvector to get a probability distribution\n",
    "w/np.sum(w)"
   ]
  },
  {
   "cell_type": "code",
   "execution_count": 8,
   "metadata": {},
   "outputs": [],
   "source": [
    "A = P.T - np.eye(8)\n",
    "A[7] = [1,1,1,1,1,1,1,1]\n",
    "K = np.linalg.solve(A, [0,0,0,0,0,0,0,1])"
   ]
  },
  {
   "cell_type": "code",
   "execution_count": 9,
   "metadata": {},
   "outputs": [
    {
     "data": {
      "text/plain": [
       "array([0.13888889, 0.13888889, 0.13888889, 0.13888889, 0.11111111,\n",
       "       0.11111111, 0.11111111, 0.11111111])"
      ]
     },
     "execution_count": 9,
     "metadata": {},
     "output_type": "execute_result"
    }
   ],
   "source": [
    "K"
   ]
  },
  {
   "cell_type": "code",
   "execution_count": 48,
   "metadata": {},
   "outputs": [],
   "source": [
    "def prob_dist (m):\n",
    "    matrix_len = len(m)\n",
    "    P = m/np.sum(m, 1)[:, np.newaxis]\n",
    "    print (P)\n",
    "    eigenvalues, eigenvectors = np.linalg.eig(P.T)\n",
    "    idx = np.argmin(np.abs(eigenvalues - 1))\n",
    "    w = np.real(eigenvectors[:, idx]).T\n",
    "    # remember to normalize eigenvector to get a probability distribution\n",
    "    w/np.sum(w)\n",
    "    A = P.T - np.eye(matrix_len)\n",
    "    A[7] = [1 for i in range(matrix_len)]\n",
    "    R = [0 for i in range(matrix_len)]\n",
    "    R[matrix_len-1] = 1\n",
    "    K = np.linalg.solve(A, R)\n",
    "    return K"
   ]
  },
  {
   "cell_type": "code",
   "execution_count": 49,
   "metadata": {},
   "outputs": [
    {
     "name": "stdout",
     "output_type": "stream",
     "text": [
      "[[0.   0.2  0.2  0.2  0.2  0.   0.2  0.  ]\n",
      " [0.2  0.   0.2  0.2  0.   0.2  0.   0.2 ]\n",
      " [0.2  0.2  0.   0.2  0.   0.2  0.2  0.  ]\n",
      " [0.2  0.2  0.2  0.   0.2  0.   0.   0.2 ]\n",
      " [0.25 0.   0.   0.25 0.   0.   0.25 0.25]\n",
      " [0.   0.25 0.25 0.   0.   0.   0.25 0.25]\n",
      " [0.25 0.   0.25 0.   0.25 0.25 0.   0.  ]\n",
      " [0.   0.25 0.   0.25 0.25 0.25 0.   0.  ]]\n"
     ]
    },
    {
     "data": {
      "text/plain": [
       "array([0.13888889, 0.13888889, 0.13888889, 0.13888889, 0.11111111,\n",
       "       0.11111111, 0.11111111, 0.11111111])"
      ]
     },
     "execution_count": 49,
     "metadata": {},
     "output_type": "execute_result"
    }
   ],
   "source": [
    "prob_dist(m)"
   ]
  },
  {
   "cell_type": "code",
   "execution_count": 102,
   "metadata": {},
   "outputs": [],
   "source": [
    "L = np.array([[1.7, -0.9, -0.7, 0, 0, -0.1],\n",
    "              [-0.9, 1.7, -0.8, 0, 0, 0],\n",
    "              [-0.7, -0.8, 1.7, -0.2, 0, 0],\n",
    "              [0, 0, -0.2, 1.6, -0.6, -0.8],\n",
    "              [0, 0, 0, -0.6, 1.3, -0.7],\n",
    "              [-0.1, 0, 0, -0.8, -0.7, 1.6]])"
   ]
  },
  {
   "cell_type": "code",
   "execution_count": 103,
   "metadata": {},
   "outputs": [
    {
     "data": {
      "text/plain": [
       "array([[ 1.7, -0.9, -0.7,  0. ,  0. , -0.1],\n",
       "       [-0.9,  1.7, -0.8,  0. ,  0. ,  0. ],\n",
       "       [-0.7, -0.8,  1.7, -0.2,  0. ,  0. ],\n",
       "       [ 0. ,  0. , -0.2,  1.6, -0.6, -0.8],\n",
       "       [ 0. ,  0. ,  0. , -0.6,  1.3, -0.7],\n",
       "       [-0.1,  0. ,  0. , -0.8, -0.7,  1.6]])"
      ]
     },
     "execution_count": 103,
     "metadata": {},
     "output_type": "execute_result"
    }
   ],
   "source": [
    "L"
   ]
  },
  {
   "cell_type": "code",
   "execution_count": 53,
   "metadata": {},
   "outputs": [],
   "source": [
    "eigenvalues, eigenvectors = np.linalg.eig(L)"
   ]
  },
  {
   "cell_type": "code",
   "execution_count": 110,
   "metadata": {
    "scrolled": true
   },
   "outputs": [],
   "source": [
    "evals, evecs = np.linalg.eig(L.T)\n"
   ]
  },
  {
   "cell_type": "code",
   "execution_count": 111,
   "metadata": {},
   "outputs": [
    {
     "ename": "IndexError",
     "evalue": "index 0 is out of bounds for axis 0 with size 0",
     "output_type": "error",
     "traceback": [
      "\u001b[0;31m---------------------------------------------------------------------------\u001b[0m",
      "\u001b[0;31mIndexError\u001b[0m                                Traceback (most recent call last)",
      "\u001b[0;32m<ipython-input-111-d0214dbd999f>\u001b[0m in \u001b[0;36m<module>\u001b[0;34m\u001b[0m\n\u001b[0;32m----> 1\u001b[0;31m \u001b[0mstationary\u001b[0m \u001b[0;34m=\u001b[0m \u001b[0mnp\u001b[0m\u001b[0;34m.\u001b[0m\u001b[0marray\u001b[0m\u001b[0;34m(\u001b[0m\u001b[0mevecs\u001b[0m\u001b[0;34m[\u001b[0m\u001b[0;34m:\u001b[0m\u001b[0;34m,\u001b[0m\u001b[0mnp\u001b[0m\u001b[0;34m.\u001b[0m\u001b[0mwhere\u001b[0m\u001b[0;34m(\u001b[0m\u001b[0mnp\u001b[0m\u001b[0;34m.\u001b[0m\u001b[0mabs\u001b[0m\u001b[0;34m(\u001b[0m\u001b[0mevals\u001b[0m\u001b[0;34m-\u001b[0m\u001b[0;36m1.\u001b[0m\u001b[0;34m)\u001b[0m \u001b[0;34m<\u001b[0m \u001b[0;36m1e-8\u001b[0m\u001b[0;34m)\u001b[0m\u001b[0;34m[\u001b[0m\u001b[0;36m0\u001b[0m\u001b[0;34m]\u001b[0m\u001b[0;34m[\u001b[0m\u001b[0;36m0\u001b[0m\u001b[0;34m]\u001b[0m\u001b[0;34m]\u001b[0m\u001b[0;34m.\u001b[0m\u001b[0mflat\u001b[0m\u001b[0;34m)\u001b[0m\u001b[0;34m\u001b[0m\u001b[0;34m\u001b[0m\u001b[0m\n\u001b[0m",
      "\u001b[0;31mIndexError\u001b[0m: index 0 is out of bounds for axis 0 with size 0"
     ]
    }
   ],
   "source": [
    "stationary = np.array(evecs[:,np.where(np.abs(evals-1.) < 1e-8)[0][0]].flat)"
   ]
  },
  {
   "cell_type": "code",
   "execution_count": 55,
   "metadata": {},
   "outputs": [
    {
     "data": {
      "text/plain": [
       "array([[-0.40824829, -0.4079592 , -0.08635251, -0.42850179,  0.60136076,\n",
       "        -0.33793094],\n",
       "       [-0.40824829, -0.44011885, -0.10935762, -0.09753036, -0.76437314,\n",
       "        -0.18409554],\n",
       "       [-0.40824829, -0.37308899,  0.13586301,  0.55011991,  0.20463384,\n",
       "         0.57547567],\n",
       "       [-0.40824829,  0.36703907,  0.54726317,  0.35441181,  0.00912731,\n",
       "        -0.52290309],\n",
       "       [-0.40824829,  0.45139833, -0.7651681 ,  0.20254316,  0.04829003,\n",
       "        -0.02711092],\n",
       "       [-0.40824829,  0.40272964,  0.27775205, -0.58104274, -0.09903881,\n",
       "         0.49656482]])"
      ]
     },
     "execution_count": 55,
     "metadata": {},
     "output_type": "execute_result"
    }
   ],
   "source": [
    "eigenvectors"
   ]
  },
  {
   "cell_type": "code",
   "execution_count": 66,
   "metadata": {},
   "outputs": [],
   "source": [
    "k = np.array([[1.7, 0.9, 0.7, 0, 0, 0.1],\n",
    "              [0.9, 1.7, 0.8, 0, 0, 0],\n",
    "              [0.7, 0.8, 1.7, 0.2, 0, 0],\n",
    "              [0, 0, 0.2, 1,6, 0.6, 0.8],\n",
    "              [0, 0, 0, 0.6, 1.3, 0.7],\n",
    "              [0.1, 0, 0, 0.8, 0.7, 1.6]])"
   ]
  },
  {
   "cell_type": "code",
   "execution_count": 67,
   "metadata": {},
   "outputs": [
    {
     "data": {
      "text/plain": [
       "array([list([1.7, 0.9, 0.7, 0, 0, 0.1]), list([0.9, 1.7, 0.8, 0, 0, 0]),\n",
       "       list([0.7, 0.8, 1.7, 0.2, 0, 0]),\n",
       "       list([0, 0, 0.2, 1, 6, 0.6, 0.8]), list([0, 0, 0, 0.6, 1.3, 0.7]),\n",
       "       list([0.1, 0, 0, 0.8, 0.7, 1.6])], dtype=object)"
      ]
     },
     "execution_count": 67,
     "metadata": {},
     "output_type": "execute_result"
    }
   ],
   "source": [
    "k"
   ]
  },
  {
   "cell_type": "code",
   "execution_count": 98,
   "metadata": {},
   "outputs": [],
   "source": [
    "eigenvalues, eigenvectors = np.linalg.eig(m)"
   ]
  },
  {
   "cell_type": "code",
   "execution_count": 99,
   "metadata": {},
   "outputs": [],
   "source": [
    "m = np.array([\n",
    "              [1.7, 0.9, 0.7, 0, 0, 0.1],\n",
    "              [0.9, 1.7, 0.8, 0, 0, 0],\n",
    "              [0.7, 0.8, 1.7, 0.2, 0, 0],\n",
    "              [0, 0, 0.2, 1.6, 0.6, 0.8],\n",
    "              [0, 0, 0, 0.6, 1.3, 0.7],\n",
    "              [0.1, 0, 0, 0.8, 0.7, 1.6]\n",
    "             ])"
   ]
  },
  {
   "cell_type": "code",
   "execution_count": 100,
   "metadata": {},
   "outputs": [
    {
     "data": {
      "text/plain": [
       "array([[1.7, 0.9, 0.7, 0. , 0. , 0.1],\n",
       "       [0.9, 1.7, 0.8, 0. , 0. , 0. ],\n",
       "       [0.7, 0.8, 1.7, 0.2, 0. , 0. ],\n",
       "       [0. , 0. , 0.2, 1.6, 0.6, 0.8],\n",
       "       [0. , 0. , 0. , 0.6, 1.3, 0.7],\n",
       "       [0.1, 0. , 0. , 0.8, 0.7, 1.6]])"
      ]
     },
     "execution_count": 100,
     "metadata": {},
     "output_type": "execute_result"
    }
   ],
   "source": [
    "m"
   ]
  },
  {
   "cell_type": "code",
   "execution_count": 101,
   "metadata": {},
   "outputs": [
    {
     "data": {
      "text/plain": [
       "(array([3.33090457, 2.89958529, 1.1042633 , 0.69183467, 0.81529205,\n",
       "        0.75812012]),\n",
       " array([[-0.55967448, -0.14260747,  0.49303669,  0.33176432, -0.5222815 ,\n",
       "          0.20123834],\n",
       "        [-0.57516354, -0.17644887,  0.17497377, -0.1545908 ,  0.51363101,\n",
       "         -0.56543943],\n",
       "        [-0.54291227, -0.10414843, -0.68496415, -0.17841851,  0.0195499 ,\n",
       "          0.4393269 ],\n",
       "        [-0.16767563,  0.58024696, -0.38523211,  0.35656483, -0.31301851,\n",
       "         -0.51154228],\n",
       "        [-0.10154817,  0.48300933,  0.16956473,  0.45908798,  0.58801334,\n",
       "          0.41366206],\n",
       "        [-0.15089894,  0.60638063,  0.28278461, -0.70448613, -0.13886234,\n",
       "          0.11824317]]))"
      ]
     },
     "execution_count": 101,
     "metadata": {},
     "output_type": "execute_result"
    }
   ],
   "source": [
    "eigenvalues, eigenvectors"
   ]
  },
  {
   "cell_type": "code",
   "execution_count": 83,
   "metadata": {},
   "outputs": [],
   "source": [
    "P = np.array([[0, 0.5294, 0.4118, 0, 0, 0.0588],\n",
    "              [0.5294, 0, 0.4706, 0, 0, 0],\n",
    "              [0.4118, 0.4706, 0, 0.1176, 0, 0],\n",
    "              [0, 0, 0.1250, 0, 0.3750, 0.5],\n",
    "              [0, 0, 0, 0.4615, 0, 0.5385],\n",
    "              [0.0625, 0, 0, 0.5, 0.4375, 0]\n",
    "    \n",
    "])"
   ]
  },
  {
   "cell_type": "code",
   "execution_count": 84,
   "metadata": {},
   "outputs": [],
   "source": [
    "eigenvalues, eigenvectors = np.linalg.eig(P)"
   ]
  },
  {
   "cell_type": "code",
   "execution_count": 85,
   "metadata": {},
   "outputs": [
    {
     "data": {
      "text/plain": [
       "(array([ 1.        ,  0.88149332, -0.33004827, -0.4434752 , -0.56510325,\n",
       "        -0.5428666 ]),\n",
       " array([[ 0.40824829,  0.38060153, -0.41947971, -0.32527895,  0.44503828,\n",
       "          0.38338984],\n",
       "        [ 0.40824829,  0.4129847 , -0.17931934,  0.11259728, -0.20981723,\n",
       "         -0.73356274],\n",
       "        [ 0.40824829,  0.34541606,  0.59765533,  0.25981422, -0.24869287,\n",
       "          0.4149174 ],\n",
       "        [ 0.40824829, -0.39626152,  0.50913535, -0.29132291,  0.4762787 ,\n",
       "         -0.32236484],\n",
       "        [ 0.40824829, -0.47112913, -0.3585646 ,  0.76465656,  0.22693316,\n",
       "          0.11621882],\n",
       "        [ 0.40824829, -0.43161094, -0.21656887, -0.38005701, -0.64631994,\n",
       "          0.15910874]]))"
      ]
     },
     "execution_count": 85,
     "metadata": {},
     "output_type": "execute_result"
    }
   ],
   "source": [
    "eigenvalues, eigenvectors"
   ]
  },
  {
   "cell_type": "code",
   "execution_count": 89,
   "metadata": {},
   "outputs": [],
   "source": [
    "from scipy.linalg import eig"
   ]
  },
  {
   "cell_type": "code",
   "execution_count": 90,
   "metadata": {},
   "outputs": [],
   "source": [
    "P = np.array([[0, 1/3, 1/3, 0, 0, 1/3],\n",
    "              [1/2, 0, 1/2, 0, 0, 0],\n",
    "              [1/3, 1/3, 0, 1/3, 0, 0],\n",
    "              [0, 0, 1/3, 0, 1/3, 1/3],\n",
    "              [0 ,0 , 0, 1/2, 0, 1/2],\n",
    "              [1/3, 0 , 0, 1/3, 1/3 , 0]\n",
    "             ])"
   ]
  },
  {
   "cell_type": "code",
   "execution_count": 92,
   "metadata": {},
   "outputs": [],
   "source": [
    "w, vl, vr = eig(P, left=True)"
   ]
  },
  {
   "cell_type": "code",
   "execution_count": 93,
   "metadata": {},
   "outputs": [
    {
     "data": {
      "text/plain": [
       "array([ 1.00000000e+00+0.j,  5.77350269e-01+0.j, -3.77440267e-17+0.j,\n",
       "       -3.33333333e-01+0.j, -6.66666667e-01+0.j, -5.77350269e-01+0.j])"
      ]
     },
     "execution_count": 93,
     "metadata": {},
     "output_type": "execute_result"
    }
   ],
   "source": [
    "w"
   ]
  },
  {
   "cell_type": "code",
   "execution_count": 94,
   "metadata": {},
   "outputs": [
    {
     "data": {
      "text/plain": [
       "array([[ 4.52267017e-01,  3.87298335e-01,  5.00000000e-01,\n",
       "        -2.88675135e-01,  5.00000000e-01, -3.87298335e-01],\n",
       "       [ 3.01511345e-01,  4.47213595e-01, -1.99496301e-16,\n",
       "         5.77350269e-01, -6.81418003e-16,  4.47213595e-01],\n",
       "       [ 4.52267017e-01,  3.87298335e-01, -5.00000000e-01,\n",
       "        -2.88675135e-01, -5.00000000e-01, -3.87298335e-01],\n",
       "       [ 4.52267017e-01, -3.87298335e-01, -5.00000000e-01,\n",
       "        -2.88675135e-01,  5.00000000e-01,  3.87298335e-01],\n",
       "       [ 3.01511345e-01, -4.47213595e-01, -1.00129759e-16,\n",
       "         5.77350269e-01, -4.25335575e-16, -4.47213595e-01],\n",
       "       [ 4.52267017e-01, -3.87298335e-01,  5.00000000e-01,\n",
       "        -2.88675135e-01, -5.00000000e-01,  3.87298335e-01]])"
      ]
     },
     "execution_count": 94,
     "metadata": {},
     "output_type": "execute_result"
    }
   ],
   "source": [
    "vl"
   ]
  },
  {
   "cell_type": "code",
   "execution_count": 95,
   "metadata": {},
   "outputs": [
    {
     "data": {
      "text/plain": [
       "array([[ 4.08248290e-01,  3.16227766e-01,  5.00000000e-01,\n",
       "        -2.13200716e-01,  5.00000000e-01, -3.16227766e-01],\n",
       "       [ 4.08248290e-01,  5.47722558e-01,  9.39435739e-18,\n",
       "         6.39602149e-01, -1.36780033e-15,  5.47722558e-01],\n",
       "       [ 4.08248290e-01,  3.16227766e-01, -5.00000000e-01,\n",
       "        -2.13200716e-01, -5.00000000e-01, -3.16227766e-01],\n",
       "       [ 4.08248290e-01, -3.16227766e-01, -5.00000000e-01,\n",
       "        -2.13200716e-01,  5.00000000e-01,  3.16227766e-01],\n",
       "       [ 4.08248290e-01, -5.47722558e-01, -3.45826423e-17,\n",
       "         6.39602149e-01, -2.26079817e-16, -5.47722558e-01],\n",
       "       [ 4.08248290e-01, -3.16227766e-01,  5.00000000e-01,\n",
       "        -2.13200716e-01, -5.00000000e-01,  3.16227766e-01]])"
      ]
     },
     "execution_count": 95,
     "metadata": {},
     "output_type": "execute_result"
    }
   ],
   "source": [
    "vr"
   ]
  },
  {
   "cell_type": "code",
   "execution_count": null,
   "metadata": {},
   "outputs": [],
   "source": []
  }
 ],
 "metadata": {
  "kernelspec": {
   "display_name": "Python (mathsci)",
   "language": "python",
   "name": "mathsci"
  },
  "language_info": {
   "codemirror_mode": {
    "name": "ipython",
    "version": 3
   },
   "file_extension": ".py",
   "mimetype": "text/x-python",
   "name": "python",
   "nbconvert_exporter": "python",
   "pygments_lexer": "ipython3",
   "version": "3.7.4"
  }
 },
 "nbformat": 4,
 "nbformat_minor": 2
}
